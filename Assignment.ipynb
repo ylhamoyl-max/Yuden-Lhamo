{
  "nbformat": 4,
  "nbformat_minor": 0,
  "metadata": {
    "colab": {
      "provenance": [],
      "authorship_tag": "ABX9TyMVVppU2uayXqd18RsrogbU",
      "include_colab_link": true
    },
    "kernelspec": {
      "name": "python3",
      "display_name": "Python 3"
    },
    "language_info": {
      "name": "python"
    }
  },
  "cells": [
    {
      "cell_type": "markdown",
      "metadata": {
        "id": "view-in-github",
        "colab_type": "text"
      },
      "source": [
        "<a href=\"https://colab.research.google.com/github/ylhamoyl-max/Yuden-Lhamo/blob/main/Assignment.ipynb\" target=\"_parent\"><img src=\"https://colab.research.google.com/assets/colab-badge.svg\" alt=\"Open In Colab\"/></a>"
      ]
    },
    {
      "cell_type": "markdown",
      "source": [
        "Assignment 1"
      ],
      "metadata": {
        "id": "IRtWukvjcv7p"
      }
    },
    {
      "cell_type": "code",
      "source": [
        "age = int(input(\"Please enter your age: \"))\n",
        "\n",
        "if age < 12:\n",
        "    price = 300\n",
        "elif 12 <= age <= 17:\n",
        "    price = 500\n",
        "elif 18 <= age <= 59:\n",
        "    price = 800\n",
        "else: # age >= 60\n",
        "    price = 400\n",
        "print(f\"Your ticket price is {price}\")\n"
      ],
      "metadata": {
        "id": "-RkpldKhH7QQ",
        "colab": {
          "base_uri": "https://localhost:8080/"
        },
        "outputId": "37f02429-e116-459d-8e12-7f39c3776217"
      },
      "execution_count": null,
      "outputs": [
        {
          "output_type": "stream",
          "name": "stdout",
          "text": [
            "Please enter your age: 23\n",
            "Your ticket price is 800\n"
          ]
        }
      ]
    },
    {
      "cell_type": "code",
      "source": [],
      "metadata": {
        "id": "70GmyKJIiM0B"
      },
      "execution_count": null,
      "outputs": []
    },
    {
      "cell_type": "code",
      "source": [
        "import datetime\n",
        "\n",
        "# Check if today is Wednesday\n",
        "today = datetime.datetime.today().strftime('%A')\n",
        "if today == \"Wednesday\":\n",
        "    price -= 100\n",
        "\n",
        "# Print the result\n",
        "print(f\"Your ticket price is Nu. {price}\")\n"
      ],
      "metadata": {
        "colab": {
          "base_uri": "https://localhost:8080/"
        },
        "id": "ojhLArqCiJhX",
        "outputId": "9d6f9724-be52-4a99-bc20-8e0db2cb4b5b"
      },
      "execution_count": null,
      "outputs": [
        {
          "output_type": "stream",
          "name": "stdout",
          "text": [
            "Your ticket price is Nu. 800\n"
          ]
        }
      ]
    },
    {
      "cell_type": "markdown",
      "source": [
        "ASSIGNMENT 2"
      ],
      "metadata": {
        "id": "Y9Ou_1Q4KbiP"
      }
    },
    {
      "cell_type": "code",
      "source": [],
      "metadata": {
        "id": "wy_IXzVViVXy"
      },
      "execution_count": null,
      "outputs": []
    },
    {
      "cell_type": "code",
      "source": [
        "# Secret number\n",
        "secret_number = 20\n",
        "\n",
        "# Ask the user to guess\n",
        "guess = int(input(\"Guess the secret number: \"))\n",
        "\n",
        "# Keep asking until the user guesses correctly\n",
        "while guess != secret_number:\n",
        "    print(\"Wrong guess. Try again!\")\n",
        "    guess = int(input(\"Guess the secret number: \"))\n",
        "\n",
        "# Correct guess\n",
        "print(\"Congratulations! You guessed correctly!\")\n"
      ],
      "metadata": {
        "colab": {
          "base_uri": "https://localhost:8080/"
        },
        "id": "0IcfQ-naigEW",
        "outputId": "c81630fb-cc64-426e-d8e2-7ce418c9c724"
      },
      "execution_count": null,
      "outputs": [
        {
          "output_type": "stream",
          "name": "stdout",
          "text": [
            "Guess the secret number: 10\n",
            "Wrong guess. Try again!\n",
            "Guess the secret number: 15\n",
            "Wrong guess. Try again!\n",
            "Guess the secret number: 20\n",
            "Congratulations! You guessed correctly!\n"
          ]
        }
      ]
    },
    {
      "cell_type": "markdown",
      "source": [
        "Assignment 3\n",
        "Keyward argument"
      ],
      "metadata": {
        "id": "z1Jfjo4hi3Ij"
      }
    },
    {
      "cell_type": "code",
      "source": [
        "def greet(name, age):\n",
        "    print(f\"Hi! i am, {name}, {age} years old.\")\n",
        "\n",
        "# Using keyword arguments\n",
        "greet(name=\"Yuden\", age=15)\n"
      ],
      "metadata": {
        "colab": {
          "base_uri": "https://localhost:8080/"
        },
        "id": "PceFb5-2j5hY",
        "outputId": "d46a112c-c378-4994-9154-f6816992f169"
      },
      "execution_count": null,
      "outputs": [
        {
          "output_type": "stream",
          "name": "stdout",
          "text": [
            "Hi! i am, Yuden, 15 years old.\n"
          ]
        }
      ]
    },
    {
      "cell_type": "markdown",
      "source": [
        "Variable Number of Arguments\n",
        "* args and **Kwargs"
      ],
      "metadata": {
        "id": "fCPERsd-kuIz"
      }
    },
    {
      "cell_type": "code",
      "source": [
        "def greet_all(*args):\n",
        "    for name in args:\n",
        "        print(f\"Hello, {name}!\")\n",
        "\n",
        "greet_all(\"Dema\", \"Pem\", \"Karsel\")\n",
        "\n"
      ],
      "metadata": {
        "id": "hnmGrkkaKiSs",
        "colab": {
          "base_uri": "https://localhost:8080/"
        },
        "outputId": "bc6d97f6-14e6-4ccc-fa06-a4fd7bb7f7ff"
      },
      "execution_count": null,
      "outputs": [
        {
          "output_type": "stream",
          "name": "stdout",
          "text": [
            "Hello, Dema!\n",
            "Hello, Pem!\n",
            "Hello, Karsel!\n"
          ]
        }
      ]
    },
    {
      "cell_type": "code",
      "source": [
        "def add_numbers(*args):\n",
        "    total = 2\n",
        "    for num in args:\n",
        "        total += num\n",
        "    print(f\"The sum is {total}\")\n",
        "\n",
        "# Calling function with different number of arguments\n",
        "add_numbers(11,12)\n",
        "add_numbers(5, 10, 15, 20)\n"
      ],
      "metadata": {
        "colab": {
          "base_uri": "https://localhost:8080/"
        },
        "id": "1WP3QbmzkKZA",
        "outputId": "b4fd8b24-8db6-4e85-ada1-905d58f00e00"
      },
      "execution_count": null,
      "outputs": [
        {
          "output_type": "stream",
          "name": "stdout",
          "text": [
            "The sum is 25\n",
            "The sum is 52\n"
          ]
        }
      ]
    },
    {
      "cell_type": "code",
      "source": [
        "def print_user_info(**kwargs):\n",
        "    for key, value in kwargs.items():\n",
        "        print(f\"{key} = {value}\")\n",
        "\n",
        "print_user_info(name=\"Pema\", age=30, country=\"Tibet\")"
      ],
      "metadata": {
        "colab": {
          "base_uri": "https://localhost:8080/"
        },
        "id": "yQmVXSron_oT",
        "outputId": "7fa541ae-d558-4d12-ccd9-0aede4b33695"
      },
      "execution_count": null,
      "outputs": [
        {
          "output_type": "stream",
          "name": "stdout",
          "text": [
            "name = Pema\n",
            "age = 30\n",
            "country = Tibet\n"
          ]
        }
      ]
    },
    {
      "cell_type": "code",
      "source": [
        "def mixed_demo(a, b, *args, **kwargs):\n",
        "    print(\"a =\", a)\n",
        "    print(\"b =\", b)\n",
        "\n",
        "    print(\"args:\", args)\n",
        "    print(\"kwargs:\", kwargs)\n",
        "\n",
        "mixed_demo(1, 2, 3, 4, 5, name=\"Yangchen\", city=\"Thimphu\")"
      ],
      "metadata": {
        "colab": {
          "base_uri": "https://localhost:8080/"
        },
        "id": "9GcmFqQQoLxK",
        "outputId": "58a9d739-2244-46d6-e6fa-696e1a9868ff"
      },
      "execution_count": null,
      "outputs": [
        {
          "output_type": "stream",
          "name": "stdout",
          "text": [
            "a = 1\n",
            "b = 2\n",
            "args: (3, 4, 5)\n",
            "kwargs: {'name': 'Yangchen', 'city': 'Thimphu'}\n"
          ]
        }
      ]
    },
    {
      "cell_type": "markdown",
      "source": [
        "Assignment 4"
      ],
      "metadata": {
        "id": "v-1cwEUforge"
      }
    },
    {
      "cell_type": "code",
      "source": [
        "# Function to calculate grade based on marks\n",
        "def calculate_grade(marks):\n",
        "    if 90 <= marks <= 100:\n",
        "        return \"A\"\n",
        "    elif 80 <= marks <= 89:\n",
        "        return \"B\"\n",
        "    elif 70 <= marks <= 79:\n",
        "        return \"C\"\n",
        "    elif 60 <= marks <= 69:\n",
        "        return \"D\"\n",
        "    elif 0 <= marks < 60:\n",
        "        return \"Failed\"\n",
        "    else:\n",
        "        return \"Invalid marks. Please enter a number between 0 and 100.\"\n",
        "\n",
        "# Get input from the user\n",
        "try:\n",
        "    marks = float(input(\"Enter your marks (0-100): \"))\n",
        "    grade = calculate_grade(marks)\n",
        "    print(f\"Your grade is: {grade}\")\n",
        "except ValueError:\n",
        "    print(\"Invalid input. Please enter a number.\")"
      ],
      "metadata": {
        "colab": {
          "base_uri": "https://localhost:8080/"
        },
        "id": "2vW6Sd4vouMG",
        "outputId": "e2a0c9f1-2010-4cc0-bd20-1bf21fe0bfe1"
      },
      "execution_count": null,
      "outputs": [
        {
          "output_type": "stream",
          "name": "stdout",
          "text": [
            "Enter your marks (0-100): 80\n",
            "Your grade is: B\n"
          ]
        }
      ]
    }
  ]
}